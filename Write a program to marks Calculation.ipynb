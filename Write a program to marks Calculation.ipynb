{
 "cells": [
  {
   "cell_type": "code",
   "execution_count": 8,
   "id": "75cb4598",
   "metadata": {},
   "outputs": [
    {
     "name": "stdout",
     "output_type": "stream",
     "text": [
      "Enter Math Mark : 45\n",
      "Enter English Mark : 58\n",
      "Enter Science Mark : 58\n",
      "Enter Hindi Mark : 68\n",
      "Enter Social_Science Mark : 98\n",
      "\n",
      "Your Total Marks : 327\n",
      "You have Passed the Exam\n",
      "Your overall percentage is =  65.4\n"
     ]
    }
   ],
   "source": [
    "'''Write a program to find out whether a student is pass or fail if it requires total 40% and at least 33% in eacch subject to \n",
    "pass assume 5 subjects and take marks as an input from the user.'''\n",
    "\n",
    "\n",
    "Math = int(input(\"Enter Math Mark : \"))\n",
    "English = int(input(\"Enter English Mark : \"))\n",
    "Science = int(input(\"Enter Science Mark : \"))\n",
    "Hindi = int(input(\"Enter Hindi Mark : \"))\n",
    "Social = int(input(\"Enter Social_Science Mark : \"))\n",
    "print(f\"\\nYour Total Marks : {English+Math+Science+Hindi+Social}\")\n",
    "percentage=(English+Math+Science+Hindi+Social)*100/500\n",
    "if percentage>40:\n",
    "    if English>=33 and Math>=33 and Science>=33 and Hindi>=33 and Social:\n",
    "        print(\"You have Passed the Exam\\nYour overall percentage is = \",percentage)\n",
    "    else:\n",
    "        print(\"You have Failed the Exam\\nYour overall percentage is = \",percentage)\n",
    "else:\n",
    "    print(\"You have Failed the Exam\\nYour overall percentage is = \",percentage)"
   ]
  },
  {
   "cell_type": "code",
   "execution_count": null,
   "id": "2843aee4",
   "metadata": {},
   "outputs": [],
   "source": []
  }
 ],
 "metadata": {
  "kernelspec": {
   "display_name": "Python 3 (ipykernel)",
   "language": "python",
   "name": "python3"
  },
  "language_info": {
   "codemirror_mode": {
    "name": "ipython",
    "version": 3
   },
   "file_extension": ".py",
   "mimetype": "text/x-python",
   "name": "python",
   "nbconvert_exporter": "python",
   "pygments_lexer": "ipython3",
   "version": "3.9.12"
  }
 },
 "nbformat": 4,
 "nbformat_minor": 5
}
