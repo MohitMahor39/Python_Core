{
 "cells": [
  {
   "cell_type": "code",
   "execution_count": null,
   "id": "36d8dbf2",
   "metadata": {},
   "outputs": [],
   "source": [
    "'''Write a program, which will find all such numbers between 1000 and 3000 (both included) such that each digit of the number is \n",
    "an even number. \n",
    "The numbers obtained should be printed in a comma-separated sequence on a single line.'''"
   ]
  },
  {
   "cell_type": "code",
   "execution_count": 1,
   "id": "19da4a8c",
   "metadata": {},
   "outputs": [
    {
     "name": "stdout",
     "output_type": "stream",
     "text": [
      "2000 2002 2004 2006 2008 2020 2022 2024 2026 2028 2040 2042 2044 2046 2048 2060 2062 2064 2066 2068 2080 2082 2084 2086 2088 2200 2202 2204 2206 2208 2220 2222 2224 2226 2228 2240 2242 2244 2246 2248 2260 2262 2264 2266 2268 2280 2282 2284 2286 2288 2400 2402 2404 2406 2408 2420 2422 2424 2426 2428 2440 2442 2444 2446 2448 2460 2462 2464 2466 2468 2480 2482 2484 2486 2488 2600 2602 2604 2606 2608 2620 2622 2624 2626 2628 2640 2642 2644 2646 2648 2660 2662 2664 2666 2668 2680 2682 2684 2686 2688 2800 2802 2804 2806 2808 2820 2822 2824 2826 2828 2840 2842 2844 2846 2848 2860 2862 2864 2866 2868 2880 2882 2884 2886 2888 "
     ]
    }
   ],
   "source": [
    "for i in range(1000,3000):  #Given the range\n",
    "    i=str(i) #Convert int to string Because every digit should be even.And there is not one digit in the brick that much posiblea\n",
    "    \n",
    "    s=0\n",
    "    for j in i:    #J pick the digit one by one\n",
    "        j=int(j)   #Convert srt to int\n",
    "        if j%2==0:   #Given the condition for even number\n",
    "            s=s+1\n",
    "        if s==4:     #Given the condition, If all the 4 digits are even, they will be printed.\n",
    "            print(i,end=\" \")"
   ]
  },
  {
   "cell_type": "code",
   "execution_count": null,
   "id": "f1aa5f04",
   "metadata": {},
   "outputs": [],
   "source": []
  }
 ],
 "metadata": {
  "kernelspec": {
   "display_name": "Python 3 (ipykernel)",
   "language": "python",
   "name": "python3"
  },
  "language_info": {
   "codemirror_mode": {
    "name": "ipython",
    "version": 3
   },
   "file_extension": ".py",
   "mimetype": "text/x-python",
   "name": "python",
   "nbconvert_exporter": "python",
   "pygments_lexer": "ipython3",
   "version": "3.9.12"
  }
 },
 "nbformat": 4,
 "nbformat_minor": 5
}
