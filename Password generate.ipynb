{
 "cells": [
  {
   "cell_type": "code",
   "execution_count": null,
   "id": "65dfd390",
   "metadata": {},
   "outputs": [],
   "source": [
    "'''A website requires users to input the user's name and password to register. Write a program to check the validity of the \n",
    "password Input by users.\n",
    "\n",
    "# Following are the criteria for customize password: \n",
    "1. At least 1 Small letter between [a-z] \n",
    "2. At least 1 number between [0-9] \n",
    "3. At least 1 Capital letter between [A-Z] \n",
    "4. At least 1 character from [$#@] \n",
    "5. Minimum length of transaction password: 6 \n",
    "6. Maximum length of transaction password: 12.'''"
   ]
  },
  {
   "cell_type": "code",
   "execution_count": 20,
   "id": "da53d606",
   "metadata": {},
   "outputs": [
    {
     "name": "stdout",
     "output_type": "stream",
     "text": [
      "Enter Password : sdf33\n",
      "0 3 2 0\n",
      "Please Try again\n",
      "Enter Password : sdf333\n",
      "0 3 3 0\n",
      "Please Try again\n",
      "Enter Password : sdwfef3\n",
      "0 6 1 0\n",
      "Please Try again\n",
      "Your account is block...!!!\n",
      "Wait for some time & Try again\n"
     ]
    }
   ],
   "source": [
    "c=0\n",
    "while True:            \n",
    "    n=input(\"Enter Password : \")\n",
    "    u,l,d,s=0,0,0,0         \n",
    "    for i in n:\n",
    "        for j in i:\n",
    "            if j.isupper():  #Check upper case in input\n",
    "                u=u+1\n",
    "            elif j.islower():  #Check lower case in input\n",
    "                l=l+1\n",
    "            elif j.isdigit   #Check number in input\n",
    "                d=d+1\n",
    "            else:\n",
    "                s=s+1\n",
    "    print(u,l,d,s)\n",
    "    if u>0 and l>0 and d>0 and s>0 and len(n)>8 and len(n)<=15:\n",
    "        print(\"Your Password is Correct\\nLogin....\")\n",
    "        break\n",
    "    else:\n",
    "        print(\"Please Try again\")\n",
    "        c=c+1   #Count enter of wrong password\n",
    "    if c==3:    \n",
    "        print(\"Your account is block...!!!\\nWait for some time & Try again\")\n",
    "        break"
   ]
  },
  {
   "cell_type": "code",
   "execution_count": null,
   "id": "ebbca6b5",
   "metadata": {},
   "outputs": [],
   "source": []
  }
 ],
 "metadata": {
  "kernelspec": {
   "display_name": "Python 3 (ipykernel)",
   "language": "python",
   "name": "python3"
  },
  "language_info": {
   "codemirror_mode": {
    "name": "ipython",
    "version": 3
   },
   "file_extension": ".py",
   "mimetype": "text/x-python",
   "name": "python",
   "nbconvert_exporter": "python",
   "pygments_lexer": "ipython3",
   "version": "3.9.12"
  }
 },
 "nbformat": 4,
 "nbformat_minor": 5
}
