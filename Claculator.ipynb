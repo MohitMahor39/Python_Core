{
 "cells": [
  {
   "cell_type": "code",
   "execution_count": 12,
   "id": "89f2f666",
   "metadata": {},
   "outputs": [
    {
     "name": "stdout",
     "output_type": "stream",
     "text": [
      "Enter first number  : 12\n",
      "Enter the operator %\n",
      "Enter second number : 5\n",
      "Modular  2\n"
     ]
    }
   ],
   "source": [
    "'''In this example you will learn to create a simple calculator that can add, subtract, multiply or divide depending upon the \n",
    "input from the user.'''\n",
    "\n",
    "first=int(input(\"Enter first number  : \"))\n",
    "Op=input(\"Enter the operator \")\n",
    "second=int(input(\"Enter second number : \"))\n",
    "if Op==\"+\":\n",
    "    print(\"Add values : \",first+second)\n",
    "elif Op==\"-\":\n",
    "    print(\"Subtract values : \",first-second)\n",
    "elif Op==\"/\":\n",
    "    print('Divide values : ',first/second)\n",
    "elif Op==\"*\":\n",
    "    print(\"Multiply values : \",first*second)\n",
    "elif Op==\"%\":\n",
    "    print(\"Modular \",first%second)"
   ]
  },
  {
   "cell_type": "code",
   "execution_count": null,
   "id": "36dc47c6",
   "metadata": {},
   "outputs": [],
   "source": []
  },
  {
   "cell_type": "code",
   "execution_count": null,
   "id": "81fd28d2",
   "metadata": {},
   "outputs": [],
   "source": []
  }
 ],
 "metadata": {
  "kernelspec": {
   "display_name": "Python 3 (ipykernel)",
   "language": "python",
   "name": "python3"
  },
  "language_info": {
   "codemirror_mode": {
    "name": "ipython",
    "version": 3
   },
   "file_extension": ".py",
   "mimetype": "text/x-python",
   "name": "python",
   "nbconvert_exporter": "python",
   "pygments_lexer": "ipython3",
   "version": "3.9.12"
  }
 },
 "nbformat": 4,
 "nbformat_minor": 5
}
