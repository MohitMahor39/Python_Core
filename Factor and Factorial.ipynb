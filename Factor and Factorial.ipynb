{
 "cells": [
  {
   "cell_type": "code",
   "execution_count": 11,
   "id": "392610d8",
   "metadata": {},
   "outputs": [
    {
     "name": "stdout",
     "output_type": "stream",
     "text": [
      "Given Number : 5\n",
      "Factorail of 5 is 120\n"
     ]
    }
   ],
   "source": [
    "''' Write a program which can compute the factorial of a given numbers. '''\n",
    "\n",
    "fac = int(input(\"Given Number : \"))\n",
    "f=1\n",
    "for i in range(1,fac+1):\n",
    "    f=f*i\n",
    "print(f\"Factorail of {fac} is {f}\")"
   ]
  },
  {
   "cell_type": "code",
   "execution_count": 27,
   "id": "fd6169d8",
   "metadata": {},
   "outputs": [
    {
     "name": "stdout",
     "output_type": "stream",
     "text": [
      "Given Number : 10\n",
      "Factor of 10 is :\n",
      "1\n",
      "2\n",
      "5\n",
      "10\n"
     ]
    }
   ],
   "source": [
    "''' Write a program which can compute the factor of a given numbers. The results should be printed in \n",
    "      comma-seprated sequence on a single line. '''\n",
    "\n",
    "fac = int(input(\"Given Number : \"))\n",
    "print(f\"Factor of {fac} is :\")\n",
    "for i in range(1,fac+1):\n",
    "    if fac%i==0:\n",
    "        print(i)"
   ]
  },
  {
   "cell_type": "code",
   "execution_count": null,
   "id": "56f07ce0",
   "metadata": {},
   "outputs": [],
   "source": []
  }
 ],
 "metadata": {
  "kernelspec": {
   "display_name": "Python 3 (ipykernel)",
   "language": "python",
   "name": "python3"
  },
  "language_info": {
   "codemirror_mode": {
    "name": "ipython",
    "version": 3
   },
   "file_extension": ".py",
   "mimetype": "text/x-python",
   "name": "python",
   "nbconvert_exporter": "python",
   "pygments_lexer": "ipython3",
   "version": "3.9.12"
  }
 },
 "nbformat": 4,
 "nbformat_minor": 5
}
