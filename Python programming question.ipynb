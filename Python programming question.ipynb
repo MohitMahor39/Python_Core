{
 "cells": [
  {
   "cell_type": "code",
   "execution_count": 16,
   "id": "e92af7ba",
   "metadata": {},
   "outputs": [
    {
     "name": "stdout",
     "output_type": "stream",
     "text": [
      "Enter Name\n",
      "Jatin\n",
      "Enter Date\n",
      "20\n",
      "Dear jatin,                  \n",
      "You are  selected!\n",
      "Date: 26\n",
      "\n"
     ]
    }
   ],
   "source": [
    "'''Replace the name & date in the letter\n",
    "letter = Dear <|Name|>,                  \n",
    "You are  selected!\n",
    "Date: <|Date|>'''\n",
    "\n",
    "name = input(\"Enter Name\\n\")\n",
    "date = input(\"Enter Date\\n\")\n",
    "letter=letter.replace(\"<|Name|>\",name)           \n",
    "letter=letter.replace(\"<|Date|>\",date)\n",
    "print(letter)"
   ]
  },
  {
   "cell_type": "code",
   "execution_count": 4,
   "id": "7997d3be",
   "metadata": {},
   "outputs": [
    {
     "name": "stdout",
     "output_type": "stream",
     "text": [
      "This is a string with double spaces\n"
     ]
    }
   ],
   "source": [
    "# Create a program double space detection and replace to single space\n",
    "\n",
    "st = \"This is a string with double  spaces\"\n",
    "st.find(\"  \")\n",
    "md = st.replace(\"  \",\" \")\n",
    "print(md)"
   ]
  },
  {
   "cell_type": "code",
   "execution_count": 15,
   "id": "83c723d4",
   "metadata": {},
   "outputs": [
    {
     "name": "stdout",
     "output_type": "stream",
     "text": [
      "Enter Number of fruits in list : 2\n",
      "Enter Fruits name :banana\n",
      "Enter Fruits name :mango\n",
      "['banana', 'mango']\n"
     ]
    }
   ],
   "source": [
    "# Write a program to store fruits in a list entered by the user.\n",
    "\n",
    "Fruits=[]\n",
    "number = int(input(\"Enter Number of fruits in list : \"))\n",
    "for i in range(1,number+1):\n",
    "    name = input(\"Enter Fruits name :\")\n",
    "    Fruits.append(name)\n",
    "print(Fruits)"
   ]
  },
  {
   "cell_type": "code",
   "execution_count": 66,
   "id": "3ebe9261",
   "metadata": {},
   "outputs": [
    {
     "name": "stdout",
     "output_type": "stream",
     "text": [
      "Total number of element: 3\n",
      "Enter marks\n",
      "99\n",
      "Enter marks\n",
      "88\n",
      "Enter marks\n",
      "66\n",
      "[66, 88, 99]\n"
     ]
    }
   ],
   "source": [
    "# Write a program to accept marks of n students from input method and display then  in a sorted manner.\n",
    "\n",
    "a=[]                                                             \n",
    "n = int(input(\"Total number of element: \"))\n",
    "for i in range(n):\n",
    "    marks = int(input(\"Enter marks\\n\"))\n",
    "    a.append(marks)\n",
    "    a.sort()\n",
    "print(a)"
   ]
  },
  {
   "cell_type": "code",
   "execution_count": 67,
   "id": "ab337d30",
   "metadata": {},
   "outputs": [
    {
     "name": "stdout",
     "output_type": "stream",
     "text": [
      "188\n"
     ]
    }
   ],
   "source": [
    "# Write a program to sum a list with 4 numbers\n",
    "\n",
    "a = [12, 54, 78, 44]\n",
    "s=0\n",
    "for i in a:\n",
    "    s=s+i\n",
    "print(s)"
   ]
  },
  {
   "cell_type": "code",
   "execution_count": 68,
   "id": "0a1d1792",
   "metadata": {},
   "outputs": [
    {
     "name": "stdout",
     "output_type": "stream",
     "text": [
      "188\n"
     ]
    }
   ],
   "source": [
    "a = [12, 54, 78, 44]              #2nd method for sum function\n",
    "print(sum(a))"
   ]
  },
  {
   "cell_type": "code",
   "execution_count": 81,
   "id": "9a9ac41c",
   "metadata": {},
   "outputs": [
    {
     "name": "stdout",
     "output_type": "stream",
     "text": [
      "3\n"
     ]
    }
   ],
   "source": [
    "# Write a program to count the number of zeros(0) in the following tuple:\n",
    "\n",
    "a = (7, 0, 8, 0, 0, 9)             \n",
    "s=0\n",
    "for i in a:\n",
    "    if i==0:\n",
    "        s=s+1\n",
    "print(s)"
   ]
  },
  {
   "cell_type": "code",
   "execution_count": 1,
   "id": "08aa679a",
   "metadata": {},
   "outputs": [
    {
     "data": {
      "text/plain": [
       "3"
      ]
     },
     "execution_count": 1,
     "metadata": {},
     "output_type": "execute_result"
    }
   ],
   "source": [
    "a = (7, 0, 8, 0, 0, 9)            # 2nd method for count function\n",
    "a.count(0)"
   ]
  }
 ],
 "metadata": {
  "kernelspec": {
   "display_name": "Python 3 (ipykernel)",
   "language": "python",
   "name": "python3"
  },
  "language_info": {
   "codemirror_mode": {
    "name": "ipython",
    "version": 3
   },
   "file_extension": ".py",
   "mimetype": "text/x-python",
   "name": "python",
   "nbconvert_exporter": "python",
   "pygments_lexer": "ipython3",
   "version": "3.9.12"
  }
 },
 "nbformat": 4,
 "nbformat_minor": 5
}
